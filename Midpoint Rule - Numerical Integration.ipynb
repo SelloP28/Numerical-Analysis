{
 "cells": [
  {
   "cell_type": "code",
   "execution_count": 1,
   "metadata": {},
   "outputs": [],
   "source": [
    "import numpy as np"
   ]
  },
  {
   "cell_type": "code",
   "execution_count": 2,
   "metadata": {},
   "outputs": [],
   "source": [
    "f = lambda x: x*np.exp(x)"
   ]
  },
  {
   "cell_type": "code",
   "execution_count": 3,
   "metadata": {},
   "outputs": [],
   "source": [
    "def _MR_(a,b,n,f):\n",
    "    \n",
    "    h = (b-a)/n\n",
    "    MR = 0\n",
    "    \n",
    "    x = np.zeros((n+1,1))\n",
    "    y = np.zeros((n+1,1))\n",
    "    \n",
    "    for i in range(1,n+1):\n",
    "        x[i] = (a+0.5*h*(2*i-1))\n",
    "        y[i] = (f(x[i]))\n",
    "        \n",
    "    for k in range(1,n+1):\n",
    "        MR += y[k]*h\n",
    "        \n",
    "    return MR"
   ]
  },
  {
   "cell_type": "code",
   "execution_count": 4,
   "metadata": {},
   "outputs": [
    {
     "data": {
      "text/plain": [
       "array([39.39906335])"
      ]
     },
     "execution_count": 4,
     "metadata": {},
     "output_type": "execute_result"
    }
   ],
   "source": [
    "_MR_(1,3,4,f)"
   ]
  },
  {
   "cell_type": "code",
   "execution_count": null,
   "metadata": {},
   "outputs": [],
   "source": []
  }
 ],
 "metadata": {
  "kernelspec": {
   "display_name": "Python 3",
   "language": "python",
   "name": "python3"
  },
  "language_info": {
   "codemirror_mode": {
    "name": "ipython",
    "version": 3
   },
   "file_extension": ".py",
   "mimetype": "text/x-python",
   "name": "python",
   "nbconvert_exporter": "python",
   "pygments_lexer": "ipython3",
   "version": "3.7.1"
  }
 },
 "nbformat": 4,
 "nbformat_minor": 2
}
